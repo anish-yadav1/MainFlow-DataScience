{
 "cells": [
  {
   "cell_type": "markdown",
   "id": "08b60339-302b-4ac5-84f6-5a7e7759b4bc",
   "metadata": {},
   "source": [
    "### Task-1: Understanding Python Data Types.\n",
    "\n",
    "#### Description:\n",
    "This task involves understanding the basic data types in Python such as list, dictionaries and sets.\n",
    "#### Responsibility:\n",
    "Write a Python program to create a list, a dictionary and a set. Perform basic operations like adding, removing and modifying elements."
   ]
  },
  {
   "cell_type": "code",
   "execution_count": 1,
   "id": "99b66adc-d28d-4935-b08c-8071ce1851a1",
   "metadata": {},
   "outputs": [],
   "source": [
    "#Creating a list\n",
    "my_list = [\"Anish\",22,\"Manish\",28,\"Nisha\"]"
   ]
  },
  {
   "cell_type": "code",
   "execution_count": 2,
   "id": "e39e1bf7-78f9-45ab-9846-cd6f37cf32c5",
   "metadata": {},
   "outputs": [
    {
     "name": "stdout",
     "output_type": "stream",
     "text": [
      "['Anish', 22, 'Manish', 28, 'Nisha', 'Manisha']\n"
     ]
    }
   ],
   "source": [
    "#Adding\n",
    "my_list.append(\"Manisha\")\n",
    "print(my_list)"
   ]
  },
  {
   "cell_type": "code",
   "execution_count": 3,
   "id": "ce338ce6-d62b-4fe1-bd14-9921f596e4c8",
   "metadata": {},
   "outputs": [
    {
     "name": "stdout",
     "output_type": "stream",
     "text": [
      "['Anish', 22, 'Manish', 'Nisha', 'Manisha']\n"
     ]
    }
   ],
   "source": [
    "#Removing\n",
    "my_list.remove(28)\n",
    "print(my_list)"
   ]
  },
  {
   "cell_type": "code",
   "execution_count": 4,
   "id": "52499da1-f8b8-4157-8cf3-5773f79b930c",
   "metadata": {},
   "outputs": [
    {
     "name": "stdout",
     "output_type": "stream",
     "text": [
      "['Anish Yadav', 22, 'Manish', 'Nisha', 'Manisha']\n"
     ]
    }
   ],
   "source": [
    "#Modifying\n",
    "my_list[0] = \"Anish Yadav\"\n",
    "print(my_list)"
   ]
  },
  {
   "cell_type": "code",
   "execution_count": 5,
   "id": "cae74d5a-8471-4045-b818-77822ce8a1be",
   "metadata": {},
   "outputs": [
    {
     "name": "stdout",
     "output_type": "stream",
     "text": [
      "Updated List: ['Anish Yadav', 22, 'Manish', 'Nisha', 'Manisha']\n"
     ]
    }
   ],
   "source": [
    "#Updated list\n",
    "print(\"Updated List:\",my_list)"
   ]
  },
  {
   "cell_type": "code",
   "execution_count": 6,
   "id": "ec48d391-3ea0-4d8d-930b-a513d1894173",
   "metadata": {},
   "outputs": [],
   "source": [
    "#Creating a dictionary\n",
    "my_dict = {\"Name\" : \"Anish\", \"Age\" : 22, \"Country\" : \"India\"}"
   ]
  },
  {
   "cell_type": "code",
   "execution_count": 7,
   "id": "fb02b4c7-f75d-4f1d-8f54-a6e7e986970f",
   "metadata": {},
   "outputs": [
    {
     "name": "stdout",
     "output_type": "stream",
     "text": [
      "{'Name': 'Anish', 'Age': 22, 'Country': 'India', 'Birth_Place': 'Banaras'}\n"
     ]
    }
   ],
   "source": [
    "#Adding\n",
    "my_dict[\"Birth_Place\"] = \"Banaras\"\n",
    "print(my_dict)"
   ]
  },
  {
   "cell_type": "code",
   "execution_count": 8,
   "id": "8e62e0d6-940f-41ec-9b68-ea06e03b6bfd",
   "metadata": {},
   "outputs": [
    {
     "name": "stdout",
     "output_type": "stream",
     "text": [
      "{'Name': 'Anish', 'Age': 22, 'Birth_Place': 'Banaras'}\n"
     ]
    }
   ],
   "source": [
    "#Removing\n",
    "del my_dict[\"Country\"]\n",
    "print(my_dict)"
   ]
  },
  {
   "cell_type": "code",
   "execution_count": 9,
   "id": "007d3bbd-b7b5-4fdc-8894-8a5b013d0bb7",
   "metadata": {},
   "outputs": [
    {
     "name": "stdout",
     "output_type": "stream",
     "text": [
      "{'Name': 'Anish', 'Age': 23, 'Birth_Place': 'Banaras'}\n"
     ]
    }
   ],
   "source": [
    "#Modifying\n",
    "my_dict[\"Age\"] = 23\n",
    "print(my_dict)"
   ]
  },
  {
   "cell_type": "code",
   "execution_count": 10,
   "id": "f2874248-b6cf-46ca-9e02-3ba06edda852",
   "metadata": {},
   "outputs": [
    {
     "name": "stdout",
     "output_type": "stream",
     "text": [
      "Updated Dictionary: {'Name': 'Anish', 'Age': 23, 'Birth_Place': 'Banaras'}\n"
     ]
    }
   ],
   "source": [
    "#Updated Dictionary\n",
    "print(\"Updated Dictionary:\",my_dict)"
   ]
  },
  {
   "cell_type": "code",
   "execution_count": 11,
   "id": "218de4e5-3553-4149-86bf-3544fd07130f",
   "metadata": {},
   "outputs": [],
   "source": [
    "#Creating a set\n",
    "my_set = {10,20,30,40,50}"
   ]
  },
  {
   "cell_type": "code",
   "execution_count": 12,
   "id": "3dd301f7-9d80-4ce1-90b5-7a47487ab982",
   "metadata": {},
   "outputs": [
    {
     "name": "stdout",
     "output_type": "stream",
     "text": [
      "{50, 20, 70, 40, 10, 30}\n"
     ]
    }
   ],
   "source": [
    "#Adding\n",
    "my_set.add(70)\n",
    "print(my_set)"
   ]
  },
  {
   "cell_type": "code",
   "execution_count": 13,
   "id": "ba19429c-957c-4b43-9ebc-3950e2347065",
   "metadata": {},
   "outputs": [
    {
     "name": "stdout",
     "output_type": "stream",
     "text": [
      "{50, 70, 40, 10, 30}\n"
     ]
    }
   ],
   "source": [
    "#Removing\n",
    "my_set.discard(20)\n",
    "print(my_set)"
   ]
  },
  {
   "cell_type": "code",
   "execution_count": 14,
   "id": "f799d7a0-0ab0-4e0a-b4cc-bf49108e8e20",
   "metadata": {},
   "outputs": [
    {
     "name": "stdout",
     "output_type": "stream",
     "text": [
      "{80, 50, 70, 40, 10}\n"
     ]
    }
   ],
   "source": [
    "#Modifying\n",
    "old_ele = 30\n",
    "new_ele = 80\n",
    "if old_ele in my_set:\n",
    "    my_set.remove(old_ele)\n",
    "    my_set.add(new_ele)\n",
    "print(my_set)"
   ]
  },
  {
   "cell_type": "code",
   "execution_count": 15,
   "id": "fd5a3d5e-78c1-4223-b611-bf2bf9bba814",
   "metadata": {},
   "outputs": [
    {
     "name": "stdout",
     "output_type": "stream",
     "text": [
      "Updated Dictionary: {80, 50, 70, 40, 10}\n"
     ]
    }
   ],
   "source": [
    "#Updated Set\n",
    "print(\"Updated Dictionary:\",my_set)"
   ]
  }
 ],
 "metadata": {
  "kernelspec": {
   "display_name": "Python 3 (ipykernel)",
   "language": "python",
   "name": "python3"
  },
  "language_info": {
   "codemirror_mode": {
    "name": "ipython",
    "version": 3
   },
   "file_extension": ".py",
   "mimetype": "text/x-python",
   "name": "python",
   "nbconvert_exporter": "python",
   "pygments_lexer": "ipython3",
   "version": "3.11.7"
  }
 },
 "nbformat": 4,
 "nbformat_minor": 5
}
