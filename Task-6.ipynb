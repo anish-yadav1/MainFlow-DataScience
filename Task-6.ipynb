{
 "cells": [
  {
   "cell_type": "markdown",
   "id": "80127bed-3caf-449b-bff7-70f9f167d47e",
   "metadata": {},
   "source": [
    "### Task-6: Disney+ Movies Data Science Project\n",
    "\n",
    "#### Description:\n",
    "The project involved selecting a dataset of interest and performing a comprehensive analysis to extract meaningful insights. The project required applying a full data science workflow, including data cleaning, exploratory data analysis (EDA), question formulation and data visualization.\n",
    "#### Responsibility:\n",
    "1. **Data Cleaning:** Handled missing data, outliers and inconsistencies to ensure the dataset is suitable for analysis.\n",
    "2. **Exploratory Data Analysis (EDA):** Performed EDA to understand the distribution of data, relationships between variables.\n",
    "3. **Question Formulation:** Developed specific minimum 7 questions related to a dataset and solve each question by using appropriate function.\n",
    "4. **Data Visualization:** Created visualization using tool like Matplotlib, Seaborn to effectively present the findings and insights gained from the analysis. This included charts, graphs and other visual aids to make the results easy to understand."
   ]
  },
  {
   "cell_type": "code",
   "execution_count": 1,
   "id": "4c818796-7eb2-4625-8a2b-2ae0bc5f25c5",
   "metadata": {},
   "outputs": [],
   "source": [
    "import numpy as np\n",
    "import pandas as pd\n",
    "import matplotlib.pyplot as plt\n",
    "import seaborn as sns\n",
    "%matplotlib inline"
   ]
  },
  {
   "cell_type": "code",
   "execution_count": 2,
   "id": "fa677958-0df5-4c39-ab54-98e4addcc974",
   "metadata": {},
   "outputs": [],
   "source": [
    "df = pd.read_csv(\"C:\\\\Users\\\\Manish Yadav\\\\Downloads\\\\disney_plus_titles.csv\")"
   ]
  },
  {
   "cell_type": "code",
   "execution_count": 3,
   "id": "15695b23-ca35-4e8b-9a41-e820083be46f",
   "metadata": {},
   "outputs": [
    {
     "data": {
      "text/html": [
       "<div>\n",
       "<style scoped>\n",
       "    .dataframe tbody tr th:only-of-type {\n",
       "        vertical-align: middle;\n",
       "    }\n",
       "\n",
       "    .dataframe tbody tr th {\n",
       "        vertical-align: top;\n",
       "    }\n",
       "\n",
       "    .dataframe thead th {\n",
       "        text-align: right;\n",
       "    }\n",
       "</style>\n",
       "<table border=\"1\" class=\"dataframe\">\n",
       "  <thead>\n",
       "    <tr style=\"text-align: right;\">\n",
       "      <th></th>\n",
       "      <th>show_id</th>\n",
       "      <th>type</th>\n",
       "      <th>title</th>\n",
       "      <th>director</th>\n",
       "      <th>cast</th>\n",
       "      <th>country</th>\n",
       "      <th>date_added</th>\n",
       "      <th>release_year</th>\n",
       "      <th>rating</th>\n",
       "      <th>duration</th>\n",
       "      <th>listed_in</th>\n",
       "      <th>description</th>\n",
       "    </tr>\n",
       "  </thead>\n",
       "  <tbody>\n",
       "    <tr>\n",
       "      <th>0</th>\n",
       "      <td>s1</td>\n",
       "      <td>Movie</td>\n",
       "      <td>A Spark Story</td>\n",
       "      <td>Jason Sterman, Leanne Dare</td>\n",
       "      <td>Apthon Corbin, Louis Gonzales</td>\n",
       "      <td>NaN</td>\n",
       "      <td>September 24, 2021</td>\n",
       "      <td>2021</td>\n",
       "      <td>TV-PG</td>\n",
       "      <td>88 min</td>\n",
       "      <td>Documentary</td>\n",
       "      <td>Two Pixar filmmakers strive to bring their uni...</td>\n",
       "    </tr>\n",
       "    <tr>\n",
       "      <th>1</th>\n",
       "      <td>s2</td>\n",
       "      <td>Movie</td>\n",
       "      <td>Spooky Buddies</td>\n",
       "      <td>Robert Vince</td>\n",
       "      <td>Tucker Albrizzi, Diedrich Bader, Ameko Eks Mas...</td>\n",
       "      <td>United States, Canada</td>\n",
       "      <td>September 24, 2021</td>\n",
       "      <td>2011</td>\n",
       "      <td>G</td>\n",
       "      <td>93 min</td>\n",
       "      <td>Comedy, Fantasy, Kids</td>\n",
       "      <td>The puppies go on a spooky adventure through a...</td>\n",
       "    </tr>\n",
       "    <tr>\n",
       "      <th>2</th>\n",
       "      <td>s3</td>\n",
       "      <td>Movie</td>\n",
       "      <td>The Fault in Our Stars</td>\n",
       "      <td>Josh Boone</td>\n",
       "      <td>Shailene Woodley, Ansel Elgort, Laura Dern, Sa...</td>\n",
       "      <td>United States</td>\n",
       "      <td>September 24, 2021</td>\n",
       "      <td>2014</td>\n",
       "      <td>PG-13</td>\n",
       "      <td>127 min</td>\n",
       "      <td>Coming of Age, Drama, Romance</td>\n",
       "      <td>Hazel and Gus share a love that sweeps them on...</td>\n",
       "    </tr>\n",
       "    <tr>\n",
       "      <th>3</th>\n",
       "      <td>s4</td>\n",
       "      <td>TV Show</td>\n",
       "      <td>Dog: Impossible</td>\n",
       "      <td>NaN</td>\n",
       "      <td>Matt Beisner</td>\n",
       "      <td>United States</td>\n",
       "      <td>September 22, 2021</td>\n",
       "      <td>2019</td>\n",
       "      <td>TV-PG</td>\n",
       "      <td>2 Seasons</td>\n",
       "      <td>Animals &amp; Nature, Docuseries, Family</td>\n",
       "      <td>Matt Beisner uses unique approaches to modifyi...</td>\n",
       "    </tr>\n",
       "    <tr>\n",
       "      <th>4</th>\n",
       "      <td>s5</td>\n",
       "      <td>TV Show</td>\n",
       "      <td>Spidey And His Amazing Friends</td>\n",
       "      <td>NaN</td>\n",
       "      <td>Benjamin Valic, Lily Sanfelippo, Jakari Fraser...</td>\n",
       "      <td>United States</td>\n",
       "      <td>September 22, 2021</td>\n",
       "      <td>2021</td>\n",
       "      <td>TV-Y</td>\n",
       "      <td>1 Season</td>\n",
       "      <td>Action-Adventure, Animation, Kids</td>\n",
       "      <td>Spidey teams up with pals to become The Spidey...</td>\n",
       "    </tr>\n",
       "  </tbody>\n",
       "</table>\n",
       "</div>"
      ],
      "text/plain": [
       "  show_id     type                           title  \\\n",
       "0      s1    Movie                   A Spark Story   \n",
       "1      s2    Movie                  Spooky Buddies   \n",
       "2      s3    Movie          The Fault in Our Stars   \n",
       "3      s4  TV Show                 Dog: Impossible   \n",
       "4      s5  TV Show  Spidey And His Amazing Friends   \n",
       "\n",
       "                     director  \\\n",
       "0  Jason Sterman, Leanne Dare   \n",
       "1                Robert Vince   \n",
       "2                  Josh Boone   \n",
       "3                         NaN   \n",
       "4                         NaN   \n",
       "\n",
       "                                                cast                country  \\\n",
       "0                      Apthon Corbin, Louis Gonzales                    NaN   \n",
       "1  Tucker Albrizzi, Diedrich Bader, Ameko Eks Mas...  United States, Canada   \n",
       "2  Shailene Woodley, Ansel Elgort, Laura Dern, Sa...          United States   \n",
       "3                                       Matt Beisner          United States   \n",
       "4  Benjamin Valic, Lily Sanfelippo, Jakari Fraser...          United States   \n",
       "\n",
       "           date_added  release_year rating   duration  \\\n",
       "0  September 24, 2021          2021  TV-PG     88 min   \n",
       "1  September 24, 2021          2011      G     93 min   \n",
       "2  September 24, 2021          2014  PG-13    127 min   \n",
       "3  September 22, 2021          2019  TV-PG  2 Seasons   \n",
       "4  September 22, 2021          2021   TV-Y   1 Season   \n",
       "\n",
       "                              listed_in  \\\n",
       "0                           Documentary   \n",
       "1                 Comedy, Fantasy, Kids   \n",
       "2         Coming of Age, Drama, Romance   \n",
       "3  Animals & Nature, Docuseries, Family   \n",
       "4     Action-Adventure, Animation, Kids   \n",
       "\n",
       "                                         description  \n",
       "0  Two Pixar filmmakers strive to bring their uni...  \n",
       "1  The puppies go on a spooky adventure through a...  \n",
       "2  Hazel and Gus share a love that sweeps them on...  \n",
       "3  Matt Beisner uses unique approaches to modifyi...  \n",
       "4  Spidey teams up with pals to become The Spidey...  "
      ]
     },
     "execution_count": 3,
     "metadata": {},
     "output_type": "execute_result"
    }
   ],
   "source": [
    "df.head()"
   ]
  },
  {
   "cell_type": "code",
   "execution_count": 4,
   "id": "315f0d46-7bec-40a5-af59-a163cc9a2e97",
   "metadata": {},
   "outputs": [
    {
     "data": {
      "text/html": [
       "<div>\n",
       "<style scoped>\n",
       "    .dataframe tbody tr th:only-of-type {\n",
       "        vertical-align: middle;\n",
       "    }\n",
       "\n",
       "    .dataframe tbody tr th {\n",
       "        vertical-align: top;\n",
       "    }\n",
       "\n",
       "    .dataframe thead th {\n",
       "        text-align: right;\n",
       "    }\n",
       "</style>\n",
       "<table border=\"1\" class=\"dataframe\">\n",
       "  <thead>\n",
       "    <tr style=\"text-align: right;\">\n",
       "      <th></th>\n",
       "      <th>show_id</th>\n",
       "      <th>type</th>\n",
       "      <th>title</th>\n",
       "      <th>director</th>\n",
       "      <th>cast</th>\n",
       "      <th>country</th>\n",
       "      <th>date_added</th>\n",
       "      <th>release_year</th>\n",
       "      <th>rating</th>\n",
       "      <th>duration</th>\n",
       "      <th>listed_in</th>\n",
       "      <th>description</th>\n",
       "    </tr>\n",
       "  </thead>\n",
       "  <tbody>\n",
       "    <tr>\n",
       "      <th>1363</th>\n",
       "      <td>s1364</td>\n",
       "      <td>Movie</td>\n",
       "      <td>The Sword in the Stone</td>\n",
       "      <td>Wolfgang Reitherman</td>\n",
       "      <td>Sebastian Cabot, Karl Swenson, Rickie Sorensen...</td>\n",
       "      <td>United States</td>\n",
       "      <td>October 1, 2019</td>\n",
       "      <td>1963</td>\n",
       "      <td>G</td>\n",
       "      <td>80 min</td>\n",
       "      <td>Action-Adventure, Animation, Comedy</td>\n",
       "      <td>Merlin trains a young orphan who's destined to...</td>\n",
       "    </tr>\n",
       "    <tr>\n",
       "      <th>1364</th>\n",
       "      <td>s1365</td>\n",
       "      <td>Movie</td>\n",
       "      <td>Those Calloways</td>\n",
       "      <td>Norman Tokar</td>\n",
       "      <td>Brian Keith, Vera Miles, Brandon de Wilde, Wal...</td>\n",
       "      <td>United States</td>\n",
       "      <td>October 1, 2019</td>\n",
       "      <td>1965</td>\n",
       "      <td>PG</td>\n",
       "      <td>132 min</td>\n",
       "      <td>Animals &amp; Nature, Drama, Family</td>\n",
       "      <td>A strong-willed family struggles to establish ...</td>\n",
       "    </tr>\n",
       "    <tr>\n",
       "      <th>1365</th>\n",
       "      <td>s1366</td>\n",
       "      <td>TV Show</td>\n",
       "      <td>Disney Kirby Buckets</td>\n",
       "      <td>NaN</td>\n",
       "      <td>Jacob Bertrand, Mekai Curtis, Cade Sutton, Oli...</td>\n",
       "      <td>United States</td>\n",
       "      <td>NaN</td>\n",
       "      <td>2014</td>\n",
       "      <td>TV-Y7</td>\n",
       "      <td>3 Seasons</td>\n",
       "      <td>Action-Adventure, Comedy, Coming of Age</td>\n",
       "      <td>Welcome to Kirby's world! It's rude and sketchy.</td>\n",
       "    </tr>\n",
       "    <tr>\n",
       "      <th>1366</th>\n",
       "      <td>s1367</td>\n",
       "      <td>TV Show</td>\n",
       "      <td>Disney Mech-X4</td>\n",
       "      <td>NaN</td>\n",
       "      <td>Nathaniel Potvin, Raymond Cham, Kamran Lucas, ...</td>\n",
       "      <td>Canada</td>\n",
       "      <td>NaN</td>\n",
       "      <td>2016</td>\n",
       "      <td>TV-Y7</td>\n",
       "      <td>2 Seasons</td>\n",
       "      <td>Action-Adventure, Comedy, Science Fiction</td>\n",
       "      <td>Ryan discovers his ability to control a giant ...</td>\n",
       "    </tr>\n",
       "    <tr>\n",
       "      <th>1367</th>\n",
       "      <td>s1368</td>\n",
       "      <td>TV Show</td>\n",
       "      <td>Imagination Movers</td>\n",
       "      <td>NaN</td>\n",
       "      <td>Rich Collins, Dave Poche, Scott Durbin, Scott ...</td>\n",
       "      <td>United States</td>\n",
       "      <td>NaN</td>\n",
       "      <td>2008</td>\n",
       "      <td>TV-Y</td>\n",
       "      <td>3 Seasons</td>\n",
       "      <td>Kids, Music</td>\n",
       "      <td>Rock out with the Imagination Movers, Disney J...</td>\n",
       "    </tr>\n",
       "  </tbody>\n",
       "</table>\n",
       "</div>"
      ],
      "text/plain": [
       "     show_id     type                   title             director  \\\n",
       "1363   s1364    Movie  The Sword in the Stone  Wolfgang Reitherman   \n",
       "1364   s1365    Movie         Those Calloways         Norman Tokar   \n",
       "1365   s1366  TV Show    Disney Kirby Buckets                  NaN   \n",
       "1366   s1367  TV Show          Disney Mech-X4                  NaN   \n",
       "1367   s1368  TV Show      Imagination Movers                  NaN   \n",
       "\n",
       "                                                   cast        country  \\\n",
       "1363  Sebastian Cabot, Karl Swenson, Rickie Sorensen...  United States   \n",
       "1364  Brian Keith, Vera Miles, Brandon de Wilde, Wal...  United States   \n",
       "1365  Jacob Bertrand, Mekai Curtis, Cade Sutton, Oli...  United States   \n",
       "1366  Nathaniel Potvin, Raymond Cham, Kamran Lucas, ...         Canada   \n",
       "1367  Rich Collins, Dave Poche, Scott Durbin, Scott ...  United States   \n",
       "\n",
       "           date_added  release_year rating   duration  \\\n",
       "1363  October 1, 2019          1963      G     80 min   \n",
       "1364  October 1, 2019          1965     PG    132 min   \n",
       "1365              NaN          2014  TV-Y7  3 Seasons   \n",
       "1366              NaN          2016  TV-Y7  2 Seasons   \n",
       "1367              NaN          2008   TV-Y  3 Seasons   \n",
       "\n",
       "                                      listed_in  \\\n",
       "1363        Action-Adventure, Animation, Comedy   \n",
       "1364            Animals & Nature, Drama, Family   \n",
       "1365    Action-Adventure, Comedy, Coming of Age   \n",
       "1366  Action-Adventure, Comedy, Science Fiction   \n",
       "1367                                Kids, Music   \n",
       "\n",
       "                                            description  \n",
       "1363  Merlin trains a young orphan who's destined to...  \n",
       "1364  A strong-willed family struggles to establish ...  \n",
       "1365   Welcome to Kirby's world! It's rude and sketchy.  \n",
       "1366  Ryan discovers his ability to control a giant ...  \n",
       "1367  Rock out with the Imagination Movers, Disney J...  "
      ]
     },
     "execution_count": 4,
     "metadata": {},
     "output_type": "execute_result"
    }
   ],
   "source": [
    "df.tail()"
   ]
  },
  {
   "cell_type": "code",
   "execution_count": 5,
   "id": "1aaa0578-d417-4840-b3cd-212ef212d71d",
   "metadata": {},
   "outputs": [
    {
     "data": {
      "text/plain": [
       "(1368, 12)"
      ]
     },
     "execution_count": 5,
     "metadata": {},
     "output_type": "execute_result"
    }
   ],
   "source": [
    "df.shape"
   ]
  },
  {
   "cell_type": "code",
   "execution_count": 6,
   "id": "c1d20058-a6da-4bb0-8f4f-23c6de2ec7b8",
   "metadata": {},
   "outputs": [
    {
     "name": "stdout",
     "output_type": "stream",
     "text": [
      "<class 'pandas.core.frame.DataFrame'>\n",
      "RangeIndex: 1368 entries, 0 to 1367\n",
      "Data columns (total 12 columns):\n",
      " #   Column        Non-Null Count  Dtype \n",
      "---  ------        --------------  ----- \n",
      " 0   show_id       1368 non-null   object\n",
      " 1   type          1368 non-null   object\n",
      " 2   title         1368 non-null   object\n",
      " 3   director      928 non-null    object\n",
      " 4   cast          1194 non-null   object\n",
      " 5   country       1193 non-null   object\n",
      " 6   date_added    1365 non-null   object\n",
      " 7   release_year  1368 non-null   int64 \n",
      " 8   rating        1366 non-null   object\n",
      " 9   duration      1368 non-null   object\n",
      " 10  listed_in     1368 non-null   object\n",
      " 11  description   1368 non-null   object\n",
      "dtypes: int64(1), object(11)\n",
      "memory usage: 128.4+ KB\n"
     ]
    }
   ],
   "source": [
    "df.info()"
   ]
  },
  {
   "cell_type": "code",
   "execution_count": 7,
   "id": "fffb5fd3-ccbe-4408-b9d2-70d6bba6aec9",
   "metadata": {},
   "outputs": [
    {
     "data": {
      "text/plain": [
       "array(['show_id', 'type', 'title', 'director', 'cast', 'country',\n",
       "       'date_added', 'release_year', 'rating', 'duration', 'listed_in',\n",
       "       'description'], dtype=object)"
      ]
     },
     "execution_count": 7,
     "metadata": {},
     "output_type": "execute_result"
    }
   ],
   "source": [
    "df.columns.values"
   ]
  },
  {
   "cell_type": "code",
   "execution_count": 8,
   "id": "f54eec41-742d-4ab6-8655-387c6ca31f56",
   "metadata": {},
   "outputs": [],
   "source": [
    "# Creating new columns from existing column\n",
    "df[['g1','g2','g3']] = df['listed_in'].str.split(',', expand = True)"
   ]
  },
  {
   "cell_type": "code",
   "execution_count": 9,
   "id": "cb586df2-ba21-4881-b023-de114cdb0345",
   "metadata": {},
   "outputs": [],
   "source": [
    "# Removing unnecessary columns\n",
    "df.drop(['show_id', 'description', 'listed_in'], axis = 1 ,inplace = True)"
   ]
  },
  {
   "cell_type": "code",
   "execution_count": 10,
   "id": "b224e678-3d54-456e-9161-66bc9ba4bc37",
   "metadata": {},
   "outputs": [
    {
     "data": {
      "text/plain": [
       "type              0\n",
       "title             0\n",
       "director        440\n",
       "cast            174\n",
       "country         175\n",
       "date_added        3\n",
       "release_year      0\n",
       "rating            2\n",
       "duration          0\n",
       "g1                0\n",
       "g2               54\n",
       "g3              337\n",
       "dtype: int64"
      ]
     },
     "execution_count": 10,
     "metadata": {},
     "output_type": "execute_result"
    }
   ],
   "source": [
    "# Checking for null values\n",
    "df.isnull().sum()"
   ]
  },
  {
   "cell_type": "code",
   "execution_count": 11,
   "id": "3a2ede23-1c3a-4330-a6b0-a80c6942e5db",
   "metadata": {},
   "outputs": [
    {
     "data": {
      "text/plain": [
       "type            0\n",
       "title           0\n",
       "director        0\n",
       "cast            0\n",
       "country         0\n",
       "date_added      0\n",
       "release_year    0\n",
       "rating          0\n",
       "duration        0\n",
       "g1              0\n",
       "g2              0\n",
       "g3              0\n",
       "dtype: int64"
      ]
     },
     "execution_count": 11,
     "metadata": {},
     "output_type": "execute_result"
    }
   ],
   "source": [
    "# Filling null values\n",
    "df.fillna(0, inplace=True)\n",
    "df.isnull().sum()"
   ]
  },
  {
   "cell_type": "code",
   "execution_count": 12,
   "id": "c7a3a6e3-d486-442b-9500-1f6f46abf5d4",
   "metadata": {},
   "outputs": [
    {
     "data": {
      "text/plain": [
       "0"
      ]
     },
     "execution_count": 12,
     "metadata": {},
     "output_type": "execute_result"
    }
   ],
   "source": [
    "# Checking for duplicated values\n",
    "df.duplicated().sum()"
   ]
  },
  {
   "cell_type": "code",
   "execution_count": 13,
   "id": "9d9b0fe2-56e0-4581-a67a-e8fd984a82bd",
   "metadata": {},
   "outputs": [
    {
     "data": {
      "image/png": "[encoded data removed]",
      "text/plain": [
       "<Figure size 1200x600 with 1 Axes>"
      ]
     },
     "metadata": {},
     "output_type": "display_data"
    }
   ],
   "source": [
    "#1. Which year of 20s released more numbers of Movies/TV Shows?\n",
    "ans1 = df.query('release_year >= 2000')\n",
    "plt.figure(figsize = (12,6))\n",
    "sns.set_style('dark')\n",
    "sns.countplot(ans1, x = 'release_year')\n",
    "plt.grid(True)\n",
    "plt.show()"
   ]
  },
  {
   "cell_type": "markdown",
   "id": "849b9876-fa7d-4914-88ff-81372e1b3825",
   "metadata": {},
   "source": [
    "#### Observation:\n",
    "2020 from 20s released the hightest number of shows."
   ]
  },
  {
   "cell_type": "code",
   "execution_count": 14,
   "id": "64cf3fc3-a42b-4700-958f-4fa4cc8becc3",
   "metadata": {},
   "outputs": [
    {
     "data": {
      "image/png": "[encoded data removed]",
      "text/plain": [
       "<Figure size 640x480 with 1 Axes>"
      ]
     },
     "metadata": {},
     "output_type": "display_data"
    }
   ],
   "source": [
    "#2. Show the difference in Movies released and TV Shows released of top 3 year of 20s having the most released.\n",
    "ans2 = df.query('release_year == [2020,2021,2019]')\n",
    "sns.countplot(ans2, x = 'release_year', hue = 'type')\n",
    "plt.grid(True)\n",
    "plt.show()"
   ]
  },
  {
   "cell_type": "markdown",
   "id": "3a7f28be-8586-4c47-ae6a-74f88ae18797",
   "metadata": {},
   "source": [
    "#### Observation:\r\n",
    "Showing the difference between Movies released and TV Shows released of 2019, 2020 and 2021."
   ]
  },
  {
   "cell_type": "code",
   "execution_count": 15,
   "id": "72cbb711-9866-40f5-9cff-355cbb566a9a",
   "metadata": {},
   "outputs": [
    {
     "data": {
      "text/plain": [
       "type\n",
       "Movie      991\n",
       "TV Show    377\n",
       "Name: count, dtype: int64"
      ]
     },
     "execution_count": 15,
     "metadata": {},
     "output_type": "execute_result"
    }
   ],
   "source": [
    "#3. What are the total number of movies and tv shows released?\n",
    "ans3 = df['type'].value_counts()\n",
    "ans3"
   ]
  },
  {
   "cell_type": "code",
   "execution_count": 16,
   "id": "54372b93-c3cc-44cc-9b5b-9c91027605fc",
   "metadata": {},
   "outputs": [
    {
     "data": {
      "image/png": "[encoded data removed]",
      "text/plain": [
       "<Figure size 640x480 with 1 Axes>"
      ]
     },
     "metadata": {},
     "output_type": "display_data"
    }
   ],
   "source": [
    "plt.pie(ans3, labels = ['Movies', 'TV Show'])\n",
    "plt.show()"
   ]
  },
  {
   "cell_type": "markdown",
   "id": "211ef65b-579a-4733-9dae-40022ab7c709",
   "metadata": {},
   "source": [
    "#### Observation:\r\n",
    "Total number of Movie released is 991\n",
    " and \r\n",
    "Total number of TV Shows released is 377"
   ]
  },
  {
   "cell_type": "code",
   "execution_count": 17,
   "id": "0006bf81-fe89-480f-9fca-8d15281311f2",
   "metadata": {},
   "outputs": [
    {
     "data": {
      "image/png": "[encoded data removed]",
      "text/plain": [
       "<Figure size 1200x600 with 1 Axes>"
      ]
     },
     "metadata": {},
     "output_type": "display_data"
    }
   ],
   "source": [
    "#4. Which year of 20s has released the most Action-Adventure movies/tv shows?\n",
    "acad = df.query(\"release_year >= 2000 and g1 == 'Action-Adventure'  or g2 == 'Action-Adventure' or g3 == 'Action-Adventure'\")\n",
    "plt.figure(figsize = (12,6))\n",
    "sns.countplot(acad, x = 'release_year')\n",
    "plt.grid(True)\n",
    "plt.show()"
   ]
  },
  {
   "cell_type": "markdown",
   "id": "4f6ada64-43fd-4cf4-91d0-cc12a62434b9",
   "metadata": {},
   "source": [
    "#### Observation:\r\n",
    "2014 from 20s has released the most number of Action-Adventure movies/shows."
   ]
  },
  {
   "cell_type": "code",
   "execution_count": 18,
   "id": "c3a0667b-7ca6-4474-871c-95fe31f79f14",
   "metadata": {},
   "outputs": [
    {
     "data": {
      "text/plain": [
       "rating\n",
       "TV-G        307\n",
       "TV-PG       275\n",
       "G           235\n",
       "PG          227\n",
       "TV-Y7       130\n",
       "TV-14        72\n",
       "PG-13        60\n",
       "TV-Y         48\n",
       "TV-Y7-FV     12\n",
       "0             2\n",
       "Name: count, dtype: int64"
      ]
     },
     "execution_count": 18,
     "metadata": {},
     "output_type": "execute_result"
    }
   ],
   "source": [
    "#5. Which category of rating has the most number of releases?\n",
    "ans5 = df['rating'].value_counts()\n",
    "ans5"
   ]
  },
  {
   "cell_type": "code",
   "execution_count": 19,
   "id": "356b7c3a-49cc-4a45-b57c-fb908c842a14",
   "metadata": {},
   "outputs": [
    {
     "data": {
      "image/png": "[encoded data removed]",
      "text/plain": [
       "<Figure size 600x600 with 1 Axes>"
      ]
     },
     "metadata": {},
     "output_type": "display_data"
    }
   ],
   "source": [
    "plt.figure(figsize = (6,6))\n",
    "plt.pie(ans5, labels = ['TV-G', 'TV-PG', 'G', 'PG', 'TV-Y7', 'TV-14', 'PG-13', 'TV-Y', 'TV-Y7-FV', 'without rating'])\n",
    "plt.show()"
   ]
  },
  {
   "cell_type": "markdown",
   "id": "901b9e3f-fd5a-467a-96cd-a8565f96f024",
   "metadata": {},
   "source": [
    "#### Observation:\r\n",
    "TV-G has the most number of releases viz 307."
   ]
  },
  {
   "cell_type": "code",
   "execution_count": 20,
   "id": "84cd40e9-5d97-4082-bb36-00eaaab1734b",
   "metadata": {},
   "outputs": [
    {
     "name": "stdout",
     "output_type": "stream",
     "text": [
      "Top 3 Directors with the Most Content:\n",
      "col_0          count\n",
      "director            \n",
      "Jack Hannah       17\n",
      "John Lasseter     16\n",
      "Paul Hoen         16\n"
     ]
    }
   ],
   "source": [
    "#6. Who are the top three directors with the most content in the dataset?\n",
    "director_counts = pd.crosstab(index=df['director'], columns='count')\n",
    "\n",
    "#Sorting the directors based on the count of their content\n",
    "director_counts_sorted = director_counts.sort_values(by='count', ascending=False)\n",
    "\n",
    "#Getting the top three directors\n",
    "top_three_directors = director_counts_sorted.head(4)\n",
    "top_three_directors = top_three_directors[1:4]\n",
    "print('Top 3 Directors with the Most Content:')\n",
    "print(top_three_directors)"
   ]
  },
  {
   "cell_type": "markdown",
   "id": "14530a7c-5e28-449c-85c7-ab722cbb54c8",
   "metadata": {},
   "source": [
    "#### Observation:\n",
    "Top 3 Directors are Jack Hannah, John Lasseter and Paul Hoen."
   ]
  },
  {
   "cell_type": "code",
   "execution_count": 22,
   "id": "b9f3e0d6-f336-485b-a40a-a9dd0e03a979",
   "metadata": {},
   "outputs": [
    {
     "data": {
      "image/png": "[encoded data removed]",
      "text/plain": [
       "<Figure size 800x400 with 1 Axes>"
      ]
     },
     "metadata": {},
     "output_type": "display_data"
    }
   ],
   "source": [
    "#7. Who are the top three directors with the most content in the dataset by plotting?\n",
    "director_counts = pd.crosstab(index=df['director'], columns='count')\n",
    "\n",
    "#Sorting the directors based on the count of their content\n",
    "director_counts_sorted = director_counts.sort_values(by='count', ascending=False)\n",
    "\n",
    "#Getting the top three directors\n",
    "top_three_directors = director_counts_sorted.head(4)\n",
    "top_three_directors = top_three_directors[1:4]\n",
    "\n",
    "plt.figure(figsize=(8,4))\n",
    "sns.barplot(x=top_three_directors.index, y='count', data=top_three_directors)\n",
    "plt.xlabel('Director')\n",
    "plt.ylabel('Number of Titles')\n",
    "plt.title('Top 3 Directors with the Most Content')\n",
    "plt.grid(True)\n",
    "plt.show()"
   ]
  },
  {
   "cell_type": "markdown",
   "id": "eb096016-5a1d-4ff4-a08c-b339b6c72af2",
   "metadata": {},
   "source": [
    "#### Observation:\n",
    "Top 3 Directors are Jack Hannah, John Lasseter and Paul Hoen."
   ]
  }
 ],
 "metadata": {
  "kernelspec": {
   "display_name": "Python 3 (ipykernel)",
   "language": "python",
   "name": "python3"
  },
  "language_info": {
   "codemirror_mode": {
    "name": "ipython",
    "version": 3
   },
   "file_extension": ".py",
   "mimetype": "text/x-python",
   "name": "python",
   "nbconvert_exporter": "python",
   "pygments_lexer": "ipython3",
   "version": "3.11.7"
  }
 },
 "nbformat": 4,
 "nbformat_minor": 5
}
